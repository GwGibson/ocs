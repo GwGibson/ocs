{
 "cells": [
  {
   "cell_type": "code",
   "execution_count": 1,
   "metadata": {},
   "outputs": [
    {
     "name": "stderr",
     "output_type": "stream",
     "text": [
      "/Users/jacoblashner/Library/Python/3.7/lib/python/site-packages/wampy/__init__.py:28: MonkeyPatchWarning: Monkey-patching ssl after ssl has already been imported may lead to errors, including RecursionError on Python 3.6. It may also silently lead to incorrect behaviour on Python 3.7. Please monkey-patch earlier. See https://github.com/gevent/gevent/issues/1016. Modules that had direct imports (NOT patched): ['eventlet.green.ssl (/Users/jacoblashner/Library/Python/3.7/lib/python/site-packages/eventlet/green/ssl.py)']. Subclasses (NOT patched): [\"<class 'eventlet.green.ssl.GreenSSLContext'>\"]. \n",
      "  gevent.monkey.patch_all(thread=False)\n"
     ]
    }
   ],
   "source": [
    "from ocs import client_wampy as cw\n",
    "import ocs\n",
    "import sys\n",
    "import argparse\n",
    "import ipywidgets as wd\n",
    "\n",
    "\n",
    "parser = ocs.site_config.add_arguments()\n",
    "args = parser.parse_args([])\n",
    "ocs.site_config.reparse_args(args, '*host*')\n",
    "\n",
    "site, host, instance = ocs.site_config.get_config(args, 'G3StreamSimulator')\n",
    "master_addr = '%s.%s' % (site.hub.data['address_root'], instance.data['instance-id'])\n",
    "\n",
    "root = 'observatory'\n",
    "\n",
    "simulator = cw.ControlClient(\n",
    "        \"{}.streamsim\".format(root),\n",
    "        url=site.hub.data['wamp_server'],\n",
    "        realm=site.hub.data['wamp_realm'])\n",
    "simulator.start()\n",
    "\n",
    "listener = cw.ControlClient(\n",
    "        \"{}.streamlistener\".format(root),\n",
    "        url=site.hub.data['wamp_server'],\n",
    "        realm=site.hub.data['wamp_realm'])\n",
    "listener.start()"
   ]
  },
  {
   "cell_type": "code",
   "execution_count": 9,
   "metadata": {},
   "outputs": [
    {
     "data": {
      "text/plain": [
       "ProcessWidget(children=(VBox(children=(Button(description='Start', style=ButtonStyle()), Button(description='S…"
      ]
     },
     "metadata": {},
     "output_type": "display_data"
    }
   ],
   "source": [
    "class ProcessWidget(wd.Box):\n",
    "    def __init__(self, client, process, params=None):\n",
    "        super().__init__()\n",
    "        self.client = client\n",
    "        self.process = process\n",
    "        self.params = params\n",
    "        \n",
    "        self.start = wd.Button(description=\"Start\")\n",
    "        self.start.on_click(self.cb)\n",
    "        self.stop = wd.Button(description=\"Stop\")\n",
    "        self.stop.on_click(self.cb)\n",
    "        self.buttons = wd.VBox([self.start, self.stop])\n",
    "        self.children = [self.buttons]\n",
    "    \n",
    "    def cb(self, b):\n",
    "        if b is self.start:\n",
    "            self.client.request('start', self.process, self.params)\n",
    "        if b is self.stop:\n",
    "            self.client.request('stop', self.process, self.params)\n",
    "\n",
    "p1 = ProcessWidget(simulator, \"stream\")\n",
    "display(p1)\n"
   ]
  },
  {
   "cell_type": "code",
   "execution_count": 6,
   "metadata": {},
   "outputs": [
    {
     "data": {
      "text/plain": [
       "ProcessWidget(children=(VBox(children=(Button(description='Start', style=ButtonStyle()), Button(description='S…"
      ]
     },
     "metadata": {},
     "output_type": "display_data"
    },
    {
     "data": {
      "text/plain": [
       "ProcessWidget(children=(VBox(children=(Button(description='Start', style=ButtonStyle()), Button(description='S…"
      ]
     },
     "metadata": {},
     "output_type": "display_data"
    }
   ],
   "source": [
    "p1 = ProcessWidget(simulator, \"stream\")\n",
    "display(p1)\n",
    "p2 = ProcessWidget(listener, \"stream\")\n",
    "display(p2)"
   ]
  },
  {
   "cell_type": "code",
   "execution_count": null,
   "metadata": {},
   "outputs": [],
   "source": [
    "p1 = widgets.IntText(layout=widgets.Layout(width=\"100px\"))\n",
    "p2 = widgets.IntText(layout=widgets.Layout(width=\"100px\"))\n"
   ]
  },
  {
   "cell_type": "code",
   "execution_count": null,
   "metadata": {},
   "outputs": [],
   "source": [
    "p1 = widgets.IntText(layout=widgets.Layout(width=\"100px\"))\n",
    "p2 = widgets.IntText(layout=widgets.Layout(width=\"100px\"))\n",
    "\n",
    "widgets.VBox([widgets.Label(\"Delay\"), widgets.IntText(layout=widgets.Layout(width=\"100px\"))])\n",
    "p2 = widgets.VBox([widgets.Label(\"Timestream Lenght\"), \n",
    "                   widgets.Text(value=\"data/\", layout=widgets.Layout(width=\"300px\"))])\n",
    "start = widgets.Button(description=\"Start\", layout=widgets.Layout(height=\"60px\"))\n",
    "stop = widgets.Button(description=\"Stop\", layout=widgets.Layout(height=\"60px\"))\n",
    "\n",
    "def handler(b):\n",
    "    params = {\n",
    "        'time_per_file': p1.children[1].value,\n",
    "        'time_per_file': p1.children[1].value,\n",
    "    }\n",
    "    print(p1.children[1].value)\n",
    "start.on_click(handler)\n",
    "stop.on_click(handler)\n",
    "widgets.HBox([p1, p2, start, stop])"
   ]
  },
  {
   "cell_type": "code",
   "execution_count": null,
   "metadata": {},
   "outputs": [],
   "source": [
    "import ipywidgets as widgets\n",
    "\n",
    "sim_start = widgets.Button(description = \"Start\")\n",
    "time_per_file_input = widgets.IntText(description=\"Time per file [s]\", width=)\n",
    "display(widgets.HBox([\n",
    "\n",
    "    sim_start\n",
    "]))\n",
    "\n",
    "sim_stop = widgets.Button(description = \"Stop\")\n",
    "\n",
    "def handler(b):\n",
    "    if b is sim_start:\n",
    "        x = simulator.request('start', 'stream', None)\n",
    "    elif b is sim_stop:\n",
    "        x = simulator.request('stop', 'stream', None)\n",
    "    \n",
    "sim_start.on_click(handler)\n",
    "sim_stop.on_click(handler)\n",
    "widgets.HBox([sim_start, sim_stop])"
   ]
  },
  {
   "cell_type": "code",
   "execution_count": null,
   "metadata": {},
   "outputs": [],
   "source": [
    "# Starts stream simulator\n",
    "params = None\n",
    "x = simulator.request('start', 'stream', params)"
   ]
  },
  {
   "cell_type": "code",
   "execution_count": null,
   "metadata": {},
   "outputs": [],
   "source": [
    "# Stops the stream simulator\n",
    "x = simulator.request('stop', 'stream', None)"
   ]
  },
  {
   "cell_type": "code",
   "execution_count": null,
   "metadata": {},
   "outputs": [],
   "source": [
    "# Starts stream listener\n",
    "params = {\n",
    "    'time_per_file': 10,\n",
    "}\n",
    "x = listener.request('start', 'stream', params)"
   ]
  },
  {
   "cell_type": "code",
   "execution_count": null,
   "metadata": {},
   "outputs": [],
   "source": [
    "# Stops stream listener\n",
    "x = listener.request('stop', 'stream', None)"
   ]
  },
  {
   "cell_type": "code",
   "execution_count": null,
   "metadata": {},
   "outputs": [],
   "source": [
    "simulator.stop()\n",
    "listener.stop()"
   ]
  },
  {
   "cell_type": "code",
   "execution_count": null,
   "metadata": {},
   "outputs": [],
   "source": []
  }
 ],
 "metadata": {
  "kernelspec": {
   "display_name": "Python 3",
   "language": "python",
   "name": "python3"
  },
  "language_info": {
   "codemirror_mode": {
    "name": "ipython",
    "version": 3
   },
   "file_extension": ".py",
   "mimetype": "text/x-python",
   "name": "python",
   "nbconvert_exporter": "python",
   "pygments_lexer": "ipython3",
   "version": "3.7.2"
  }
 },
 "nbformat": 4,
 "nbformat_minor": 2
}
