{
 "cells": [
  {
   "cell_type": "code",
   "execution_count": 1,
   "metadata": {},
   "outputs": [
    {
     "name": "stderr",
     "output_type": "stream",
     "text": [
      "/Users/jacoblashner/Library/Python/3.7/lib/python/site-packages/wampy/__init__.py:28: MonkeyPatchWarning: Patching more than once will result in the union of all True parameters being patched\n",
      "  gevent.monkey.patch_all(thread=False)\n"
     ]
    }
   ],
   "source": [
    "import gevent.monkey\n",
    "gevent.monkey.patch_all(aggressive=False, thread=False)\n",
    "from ocs import client_wampy as cw\n",
    "import ocs\n",
    "from ocs_widgets import TaskWidget, ProcessWidget\n",
    "\n",
    "parser = ocs.site_config.add_arguments()\n",
    "\n",
    "args = parser.parse_args([])\n",
    "ocs.site_config.reparse_args(args, '*host*')\n",
    "site, host, _ = ocs.site_config.get_config(args, '*host*')\n",
    "root = site.hub.data['address_root']\n",
    "\n",
    "instance_ids = ['thermo1', 'aggregator']\n",
    "clients = {i: cw.ControlClient(\n",
    "        \"{}.{}\".format(root, i),\n",
    "        url=site.hub.data['wamp_server'],\n",
    "        realm=site.hub.data['wamp_realm'])\n",
    "    for i in instance_ids\n",
    "}\n",
    "for _,c in clients.items():\n",
    "    c.start()"
   ]
  },
  {
   "cell_type": "code",
   "execution_count": 2,
   "metadata": {},
   "outputs": [
    {
     "data": {
      "application/vnd.jupyter.widget-view+json": {
       "model_id": "5021af2779ec4c53aeb28cd747f704c2",
       "version_major": 2,
       "version_minor": 0
      },
      "text/plain": [
       "TaskWidget(children=(VBox(children=(Label(value='observatory.thermo1: init_lakeshore'), Button(description='St…"
      ]
     },
     "metadata": {},
     "output_type": "display_data"
    },
    {
     "data": {
      "application/vnd.jupyter.widget-view+json": {
       "model_id": "2bc3c73167ae493dadac81b1e7c6924f",
       "version_major": 2,
       "version_minor": 0
      },
      "text/plain": [
       "ProcessWidget(children=(VBox(children=(Label(value='observatory.thermo1: acq'), HBox(children=(Button(descript…"
      ]
     },
     "metadata": {},
     "output_type": "display_data"
    },
    {
     "data": {
      "application/vnd.jupyter.widget-view+json": {
       "model_id": "f9c5ac386c3843db8500680a045fd1de",
       "version_major": 2,
       "version_minor": 0
      },
      "text/plain": [
       "TaskWidget(children=(VBox(children=(Label(value='observatory.aggregator: initialize'), Button(description='Sta…"
      ]
     },
     "metadata": {},
     "output_type": "display_data"
    },
    {
     "data": {
      "application/vnd.jupyter.widget-view+json": {
       "model_id": "7058d9a6b88545f3aff751bbaf0f12a1",
       "version_major": 2,
       "version_minor": 0
      },
      "text/plain": [
       "ProcessWidget(children=(VBox(children=(Label(value='observatory.aggregator: aggregate'), HBox(children=(Button…"
      ]
     },
     "metadata": {},
     "output_type": "display_data"
    }
   ],
   "source": [
    "c = clients['thermo1']\n",
    "params = {}\n",
    "therm_init = TaskWidget(clients['thermo1'], 'init_lakeshore', params)\n",
    "display(therm_init)\n",
    "\n",
    "params = {}\n",
    "acq = ProcessWidget(clients['thermo1'], 'acq', params)\n",
    "display(acq)\n",
    "\n",
    "c = clients['aggregator']\n",
    "params = {}\n",
    "therm_init = TaskWidget(c, 'initialize', params)\n",
    "display(therm_init)\n",
    "\n",
    "params = {\n",
    "    \"time_per_file\": 10 * 60,\n",
    "    \"data_dir\": \"/data/hk/\"\n",
    "}\n",
    "acq = ProcessWidget(c, 'aggregate', params)\n",
    "display(acq)"
   ]
  }
 ],
 "metadata": {
  "kernelspec": {
   "display_name": "Python 3",
   "language": "python",
   "name": "python3"
  },
  "language_info": {
   "codemirror_mode": {
    "name": "ipython",
    "version": 3
   },
   "file_extension": ".py",
   "mimetype": "text/x-python",
   "name": "python",
   "nbconvert_exporter": "python",
   "pygments_lexer": "ipython3",
   "version": "3.7.2"
  }
 },
 "nbformat": 4,
 "nbformat_minor": 2
}
