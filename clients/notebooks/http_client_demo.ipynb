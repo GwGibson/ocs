{
 "cells": [
  {
   "cell_type": "code",
   "execution_count": 1,
   "metadata": {},
   "outputs": [],
   "source": [
    "from ocs import matched_client\n",
    "thermo1 = matched_client.MatchedClient('therm-d', client_type='http', args=[])\n",
    "\n",
    "thermo1.init_lakeshore.start()\n",
    "thermo1.init_lakeshore.wait()\n",
    "status, msg, session = thermo1.acq.start()"
   ]
  },
  {
   "cell_type": "code",
   "execution_count": 2,
   "metadata": {},
   "outputs": [
    {
     "data": {
      "text/plain": [
       "[0,\n",
       " 'Requested stop on process \"acq\".',\n",
       " {'session_id': 1,\n",
       "  'op_name': 'acq',\n",
       "  'status': 'running',\n",
       "  'start_time': 1557805286.3532162,\n",
       "  'end_time': None,\n",
       "  'success': None,\n",
       "  'data': {},\n",
       "  'messages': [[1557805286.3532162, 'Status is now \"starting\".'],\n",
       "   [1557805286.354816, 'Status is now \"running\".']]}]"
      ]
     },
     "execution_count": 2,
     "metadata": {},
     "output_type": "execute_result"
    }
   ],
   "source": [
    "thermo1.acq.stop()"
   ]
  },
  {
   "cell_type": "code",
   "execution_count": null,
   "metadata": {},
   "outputs": [],
   "source": []
  }
 ],
 "metadata": {
  "kernelspec": {
   "display_name": "Python 3",
   "language": "python",
   "name": "python3"
  },
  "language_info": {
   "codemirror_mode": {
    "name": "ipython",
    "version": 3
   },
   "file_extension": ".py",
   "mimetype": "text/x-python",
   "name": "python",
   "nbconvert_exporter": "python",
   "pygments_lexer": "ipython3",
   "version": "3.7.2"
  }
 },
 "nbformat": 4,
 "nbformat_minor": 2
}
