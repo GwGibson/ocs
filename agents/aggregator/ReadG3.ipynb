{
 "cells": [
  {
   "cell_type": "code",
   "execution_count": 1,
   "metadata": {},
   "outputs": [],
   "source": [
    "import so3g\n",
    "from spt3g import core\n",
    "import os"
   ]
  },
  {
   "cell_type": "code",
   "execution_count": 69,
   "metadata": {},
   "outputs": [
    {
     "data": {
      "text/plain": [
       "'data/2019-02-18_T_23:00:12.g3'"
      ]
     },
     "execution_count": 69,
     "metadata": {},
     "output_type": "execute_result"
    }
   ],
   "source": [
    "filename"
   ]
  },
  {
   "cell_type": "code",
   "execution_count": 71,
   "metadata": {},
   "outputs": [],
   "source": [
    "data_dir = 'data'\n",
    "filename = os.path.join(data_dir, sorted(os.listdir(data_dir))[-1])"
   ]
  },
  {
   "cell_type": "code",
   "execution_count": 56,
   "metadata": {},
   "outputs": [],
   "source": [
    "def print_frame(f):\n",
    "    ht = f['hkagg_type']\n",
    "    if ht == so3g.HKFrameType.session:\n",
    "        print(\"=== Session \" + \"=\"*25 )\n",
    "        print(f\"session id: {f['session_id']}\")\n",
    "        print(f\"description: {f['description']}\")\n",
    "        print(f\"start time: {f['start_time']}\")              \n",
    "        print(\"=\" * 37)\n",
    "    elif ht == so3g.HKFrameType.status:\n",
    "        print(\"--- Status \" + \"-\"*25)\n",
    "        print(f\"Providers ({len(f['providers'])}):\")\n",
    "        for p in f['providers']:\n",
    "            print(f\"    {p['prov_id']}: {p['description']}\")\n",
    "        print(\"-\" * 37)\n",
    "    elif ht == so3g.HKFrameType.data:\n",
    "        print(f\"Data ({f['prov_id']}, {f['agent_address']})\")\n",
    "        for block in f['blocks']:\n",
    "            print(f\" - {len(block.t)} points, Keys: {block.data.keys()}, Prefix: {block.prefix}\")"
   ]
  },
  {
   "cell_type": "code",
   "execution_count": 72,
   "metadata": {},
   "outputs": [
    {
     "name": "stdout",
     "output_type": "stream",
     "text": [
      "=== Session =========================\n",
      "session id: 1\n",
      "description: HK data\n",
      "start time: 1550559855.271412\n",
      "=====================================\n",
      "--- Status -------------------------\n",
      "Providers (1):\n",
      "    0: \"observatory.thermo1\"\n",
      "-------------------------------------\n",
      "Data (0, observatory.thermo1)\n",
      " - 5 points, Keys: ['chan_1', 'chan_2'], Prefix: \n",
      "Data (0, observatory.thermo1)\n",
      " - 5 points, Keys: ['chan_1', 'chan_2'], Prefix: \n",
      "Data (0, observatory.thermo1)\n",
      " - 5 points, Keys: ['chan_1', 'chan_2'], Prefix: \n",
      "Data (0, observatory.thermo1)\n",
      " - 5 points, Keys: ['chan_1', 'chan_2'], Prefix: \n",
      "Data (0, observatory.thermo1)\n",
      " - 5 points, Keys: ['chan_1', 'chan_2'], Prefix: \n",
      "Data (0, observatory.thermo1)\n",
      " - 5 points, Keys: ['chan_1', 'chan_2'], Prefix: \n",
      "Data (0, observatory.thermo1)\n",
      " - 5 points, Keys: ['chan_1', 'chan_2'], Prefix: \n",
      "Data (0, observatory.thermo1)\n",
      " - 5 points, Keys: ['chan_1', 'chan_2'], Prefix: \n",
      "Data (0, observatory.thermo1)\n",
      " - 5 points, Keys: ['chan_1', 'chan_2'], Prefix: \n",
      "Data (0, observatory.thermo1)\n",
      " - 3 points, Keys: ['chan_1', 'chan_2'], Prefix: \n",
      "--- Status -------------------------\n",
      "Providers (0):\n",
      "-------------------------------------\n",
      "--- Status -------------------------\n",
      "Providers (1):\n",
      "    1: \"observatory.thermo1\"\n",
      "-------------------------------------\n",
      "Data (1, observatory.thermo1)\n",
      " - 5 points, Keys: ['chan_1', 'chan_2', 'chan_3', 'chan_4', 'chan_5', 'chan_6', 'chan_7', 'chan_8'], Prefix: \n",
      "Data (1, observatory.thermo1)\n",
      " - 5 points, Keys: ['chan_1', 'chan_2', 'chan_3', 'chan_4', 'chan_5', 'chan_6', 'chan_7', 'chan_8'], Prefix: \n",
      "Data (1, observatory.thermo1)\n",
      " - 5 points, Keys: ['chan_1', 'chan_2', 'chan_3', 'chan_4', 'chan_5', 'chan_6', 'chan_7', 'chan_8'], Prefix: \n",
      "Data (1, observatory.thermo1)\n",
      " - 5 points, Keys: ['chan_1', 'chan_2', 'chan_3', 'chan_4', 'chan_5', 'chan_6', 'chan_7', 'chan_8'], Prefix: \n",
      "Data (1, observatory.thermo1)\n",
      " - 1 points, Keys: ['chan_1', 'chan_2', 'chan_3', 'chan_4', 'chan_5', 'chan_6', 'chan_7', 'chan_8'], Prefix: \n"
     ]
    }
   ],
   "source": [
    "for f in core.G3File(filename):\n",
    "    print_frame(f)"
   ]
  },
  {
   "cell_type": "code",
   "execution_count": 11,
   "metadata": {},
   "outputs": [
    {
     "ename": "KeyError",
     "evalue": "\"Key 'blocks' not found\"",
     "output_type": "error",
     "traceback": [
      "\u001b[0;31m---------------------------------------------------------------------------\u001b[0m",
      "\u001b[0;31mKeyError\u001b[0m                                  Traceback (most recent call last)",
      "\u001b[0;32m<ipython-input-11-68dd7ba4b01b>\u001b[0m in \u001b[0;36m<module>\u001b[0;34m\u001b[0m\n\u001b[0;32m----> 1\u001b[0;31m \u001b[0mprint\u001b[0m\u001b[0;34m(\u001b[0m\u001b[0mf\u001b[0m\u001b[0;34m[\u001b[0m\u001b[0;34m'blocks'\u001b[0m\u001b[0;34m]\u001b[0m\u001b[0;34m)\u001b[0m\u001b[0;34m\u001b[0m\u001b[0;34m\u001b[0m\u001b[0m\n\u001b[0m",
      "\u001b[0;31mKeyError\u001b[0m: \"Key 'blocks' not found\""
     ]
    }
   ],
   "source": []
  },
  {
   "cell_type": "code",
   "execution_count": null,
   "metadata": {},
   "outputs": [],
   "source": []
  }
 ],
 "metadata": {
  "kernelspec": {
   "display_name": "Python 3",
   "language": "python",
   "name": "python3"
  },
  "language_info": {
   "codemirror_mode": {
    "name": "ipython",
    "version": 3
   },
   "file_extension": ".py",
   "mimetype": "text/x-python",
   "name": "python",
   "nbconvert_exporter": "python",
   "pygments_lexer": "ipython3",
   "version": "3.7.2"
  }
 },
 "nbformat": 4,
 "nbformat_minor": 2
}
