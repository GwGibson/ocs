{
 "cells": [
  {
   "cell_type": "code",
   "execution_count": 18,
   "metadata": {},
   "outputs": [],
   "source": [
    "import so3g\n",
    "from spt3g import core\n",
    "\n",
    "test_file = \"data/2019-02-01_T_14:36:47.g3\""
   ]
  },
  {
   "cell_type": "code",
   "execution_count": 19,
   "metadata": {},
   "outputs": [
    {
     "name": "stdout",
     "output_type": "stream",
     "text": [
      "Session: 5\n",
      "  Status update: 1 providers\n",
      "  Data: 1 blocks\n",
      "    chan_1 spt3g.core.DoubleVector([322, 289, 250])\n",
      "    chan_2 spt3g.core.DoubleVector([270, 333, 295])\n",
      "    timestamps [1549060290.6270552, 1549060290.8310778, 1549060607.076123]\n",
      "  Data: 1 blocks\n",
      "    chan_1 spt3g.core.DoubleVector([294, 260, 283, 269, 305, 286])\n",
      "    chan_2 spt3g.core.DoubleVector([254, 345, 332, 262, 310, 332])\n",
      "    timestamps [1549060607.2794828, 1549060607.483853, 1549060607.688183, 1549060607.8909812, 1549060608.091858, 1549060608.293937]\n",
      "  Data: 1 blocks\n",
      "    chan_1 spt3g.core.DoubleVector([342, 316, 313, 264, 265, 274])\n",
      "    chan_2 spt3g.core.DoubleVector([263, 310, 310, 338, 277, 297])\n",
      "    timestamps [1549060608.498883, 1549060608.7015, 1549060608.904232, 1549060609.1070652, 1549060609.309485, 1549060609.512293]\n",
      "  Data: 1 blocks\n",
      "    chan_1 spt3g.core.DoubleVector([277, 317])\n",
      "    chan_2 spt3g.core.DoubleVector([266, 334])\n",
      "    timestamps [1549060609.714752, 1549060609.918265]\n"
     ]
    }
   ],
   "source": [
    "for f in core.G3File(test_file):\n",
    "    ht = f['hkagg_type']\n",
    "    if ht == so3g.HKFrameType.session:\n",
    "        print('Session: %i' % f['session_id'])\n",
    "    elif ht == so3g.HKFrameType.status:\n",
    "        print('  Status update: %i providers' % (len(f['providers'])))\n",
    "    elif ht == so3g.HKFrameType.data:\n",
    "        print('  Data: %i blocks' % len(f['blocks']))\n",
    "        for block in f['blocks']:\n",
    "            for k,v in block.data.items():\n",
    "                print('    %s%s' % (block.prefix, k), v)\n",
    "            print('    %s%s' % (block.prefix, 'timestamps'), list(block.t))"
   ]
  },
  {
   "cell_type": "code",
   "execution_count": 11,
   "metadata": {},
   "outputs": [
    {
     "ename": "KeyError",
     "evalue": "\"Key 'blocks' not found\"",
     "output_type": "error",
     "traceback": [
      "\u001b[0;31m---------------------------------------------------------------------------\u001b[0m",
      "\u001b[0;31mKeyError\u001b[0m                                  Traceback (most recent call last)",
      "\u001b[0;32m<ipython-input-11-68dd7ba4b01b>\u001b[0m in \u001b[0;36m<module>\u001b[0;34m\u001b[0m\n\u001b[0;32m----> 1\u001b[0;31m \u001b[0mprint\u001b[0m\u001b[0;34m(\u001b[0m\u001b[0mf\u001b[0m\u001b[0;34m[\u001b[0m\u001b[0;34m'blocks'\u001b[0m\u001b[0;34m]\u001b[0m\u001b[0;34m)\u001b[0m\u001b[0;34m\u001b[0m\u001b[0;34m\u001b[0m\u001b[0m\n\u001b[0m",
      "\u001b[0;31mKeyError\u001b[0m: \"Key 'blocks' not found\""
     ]
    }
   ],
   "source": []
  },
  {
   "cell_type": "code",
   "execution_count": null,
   "metadata": {},
   "outputs": [],
   "source": []
  }
 ],
 "metadata": {
  "kernelspec": {
   "display_name": "Python 3",
   "language": "python",
   "name": "python3"
  },
  "language_info": {
   "codemirror_mode": {
    "name": "ipython",
    "version": 3
   },
   "file_extension": ".py",
   "mimetype": "text/x-python",
   "name": "python",
   "nbconvert_exporter": "python",
   "pygments_lexer": "ipython3",
   "version": "3.7.2"
  }
 },
 "nbformat": 4,
 "nbformat_minor": 2
}
